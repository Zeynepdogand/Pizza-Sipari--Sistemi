{
  "nbformat": 4,
  "nbformat_minor": 0,
  "metadata": {
    "colab": {
      "provenance": [],
      "authorship_tag": "ABX9TyOsyVMD6pRJLW83++UMrSdo",
      "include_colab_link": true
    },
    "kernelspec": {
      "name": "python3",
      "display_name": "Python 3"
    },
    "language_info": {
      "name": "python"
    }
  },
  "cells": [
    {
      "cell_type": "markdown",
      "metadata": {
        "id": "view-in-github",
        "colab_type": "text"
      },
      "source": [
        "<a href=\"https://colab.research.google.com/github/Zeynepdogand/Pizza-Sipari--Sistemi/blob/main/Pizza.ipynb\" target=\"_parent\"><img src=\"https://colab.research.google.com/assets/colab-badge.svg\" alt=\"Open In Colab\"/></a>"
      ]
    },
    {
      "cell_type": "code",
      "source": [
        "import datetime\n",
        "import csv"
      ],
      "metadata": {
        "id": "FgUD7B_tOCri"
      },
      "execution_count": 108,
      "outputs": []
    },
    {
      "cell_type": "code",
      "source": [
        "Menu_Dosyasi = open(\"Menu.txt\",\"w\")\n",
        "Menu_Dosyasi.write(\"\"\"\n",
        "* Lütfen Bir Pizza Tabanı Seçiniz:\n",
        "1: Klasik Pizza\n",
        "2: TürkPizza\n",
        "3: Italian Pizza\n",
        "4: Tuna Pizza\n",
        "* ve seçeceğiniz sos:\n",
        "11: Zeytin\n",
        "12: Mantarlar\n",
        "13: Keçi Peyniri\n",
        "14: Et\n",
        "15: Soğan\n",
        "16: Mısır\n",
        "* Teşekkür ederiz! \"\"\" )\n",
        "Menu_Dosyasi.close()"
      ],
      "metadata": {
        "id": "pIq8BTuMbI-Q"
      },
      "execution_count": 109,
      "outputs": []
    },
    {
      "cell_type": "code",
      "execution_count": 110,
      "metadata": {
        "id": "h0bc12IMMfq3"
      },
      "outputs": [],
      "source": [
        "class Pizza():\n",
        "\n",
        " def __init__ (self, isim, boyut, hamur_kalinligi, icindekiler, cost):\n",
        "       self.isim = isim\n",
        "       self.boyut = boyut\n",
        "       self.hamur_kalinligi = hamur_kalinligi\n",
        "       self.icindekiler = icindekiler\n",
        "       self.cost = cost\n",
        "\n",
        "def get_description (self):\n",
        "       print(f\"{self.isim} 'nın boyutu {self.boyut} ve {self.hamur_kalinligi}. {self.icindekiler} içermektedir.\")\n",
        "\n",
        "def get_cost (self):\n",
        "     return self.cost"
      ]
    },
    {
      "cell_type": "code",
      "source": [
        "class Klasik_Pizza (Pizza): # alt sınıf\n",
        "  def __init__ (self,isim, boyut, hamur_kalinligi, icindekiler, cost):\n",
        "      super().__init__(isim, boyut, hamur_kalinligi, icindekiler, cost) \n",
        "      \n",
        "  def get_description (self):\n",
        "       print(f\"{self.isim} 'nın boyutu {self.boyut} ve {self.hamur_kalinligi}. {self.icindekiler} içermektedir.\")\n",
        "  def get_cost (self):\n",
        "      #print(f\"fiyatı {self.cost} TL.\")\n",
        "      return self.cost\n",
        "my_klasik_pizza = Klasik_Pizza(\"Klasik Pizza\",\"orta\", \"ince hamur\", \"sucuk, chedar peyniri, mısır\", 20)"
      ],
      "metadata": {
        "id": "d9MixPLcIrDY"
      },
      "execution_count": 111,
      "outputs": []
    },
    {
      "cell_type": "code",
      "source": [
        "my_klasik_pizza.get_description()\n",
        "my_klasik_pizza.get_cost()"
      ],
      "metadata": {
        "colab": {
          "base_uri": "https://localhost:8080/"
        },
        "id": "x5s4J9pAM54w",
        "outputId": "b5d13b70-5570-454d-f5f9-ca59a8651005"
      },
      "execution_count": 112,
      "outputs": [
        {
          "output_type": "stream",
          "name": "stdout",
          "text": [
            "Klasik Pizza 'nın boyutu orta ve ince hamur. sucuk, chedar peyniri, mısır içermektedir.\n"
          ]
        },
        {
          "output_type": "execute_result",
          "data": {
            "text/plain": [
              "20"
            ]
          },
          "metadata": {},
          "execution_count": 112
        }
      ]
    },
    {
      "cell_type": "code",
      "source": [
        "class Turk_Pizza (Pizza): # alt sınıf\n",
        "  def __init__ (self,isim, boyut, hamur_kalinligi, icindekiler, cost):\n",
        "      super().__init__(isim, boyut, hamur_kalinligi, icindekiler, cost) \n",
        "      \n",
        "  def get_description (self):\n",
        "       print(f\"{self.isim} 'nın boyutu {self.boyut} ve {self.hamur_kalinligi}. {self.icindekiler} içermektedir.\")\n",
        "  def get_cost (self):\n",
        "      return self.cost\n",
        "my_turk_pizza = Turk_Pizza(\"Türk Pizzası\",\"orta\", \"ince hamur\", \"sucuk, chedar peyniri, mısır, zeytin\", 50)"
      ],
      "metadata": {
        "id": "_wcZ1W5bh3XJ"
      },
      "execution_count": 113,
      "outputs": []
    },
    {
      "cell_type": "code",
      "source": [
        "my_turk_pizza.get_description()\n",
        "my_turk_pizza.get_cost()"
      ],
      "metadata": {
        "colab": {
          "base_uri": "https://localhost:8080/"
        },
        "id": "j7sLLNitjNkq",
        "outputId": "8e3ca9c9-f4be-428e-d030-5f9016e5e5fb"
      },
      "execution_count": 114,
      "outputs": [
        {
          "output_type": "stream",
          "name": "stdout",
          "text": [
            "Türk Pizzası 'nın boyutu orta ve ince hamur. sucuk, chedar peyniri, mısır, zeytin içermektedir.\n"
          ]
        },
        {
          "output_type": "execute_result",
          "data": {
            "text/plain": [
              "50"
            ]
          },
          "metadata": {},
          "execution_count": 114
        }
      ]
    },
    {
      "cell_type": "code",
      "source": [
        "class Italian_Pizza (Pizza): # alt sınıf\n",
        "  def __init__ (self,isim, boyut, hamur_kalinligi, icindekiler, cost):\n",
        "      super().__init__(isim, boyut, hamur_kalinligi, icindekiler, cost) \n",
        "      \n",
        "  def get_description (self):\n",
        "       print(f\"{self.isim} 'nın boyutu {self.boyut} ve {self.hamur_kalinligi}. {self.icindekiler} içermektedir.\")\n",
        "  def get_cost (self):\n",
        "       return self.cost\n",
        "my_italian_pizza = Italian_Pizza(\"İtalian Pizza\",\"orta\", \"ince hamur\", \"sucuk, pepperoni, chedar peyniri, mısır ve zeytin,\", 70)"
      ],
      "metadata": {
        "id": "GoGEoUeLjVI7"
      },
      "execution_count": 115,
      "outputs": []
    },
    {
      "cell_type": "code",
      "source": [
        "my_italian_pizza.get_description()\n",
        "my_italian_pizza.get_cost()"
      ],
      "metadata": {
        "colab": {
          "base_uri": "https://localhost:8080/"
        },
        "id": "eEg9Emy5kXs-",
        "outputId": "064282a4-8d2d-4072-e0fc-f6c3506ddd51"
      },
      "execution_count": 116,
      "outputs": [
        {
          "output_type": "stream",
          "name": "stdout",
          "text": [
            "İtalian Pizza 'nın boyutu orta ve ince hamur. sucuk, pepperoni, chedar peyniri, mısır ve zeytin, içermektedir.\n"
          ]
        },
        {
          "output_type": "execute_result",
          "data": {
            "text/plain": [
              "70"
            ]
          },
          "metadata": {},
          "execution_count": 116
        }
      ]
    },
    {
      "cell_type": "code",
      "source": [
        "class Tuna_Pizza (Pizza): # alt sınıf\n",
        "  def __init__ (self,isim, boyut, hamur_kalinligi, icindekiler, cost):\n",
        "      super().__init__(isim, boyut, hamur_kalinligi, icindekiler, cost) \n",
        "      \n",
        "  def get_description (self):\n",
        "       print(f\"{self.isim} 'nın boyutu {self.boyut} ve {self.hamur_kalinligi}. {self.icindekiler} içermektedir.\")\n",
        "  def get_cost (self):\n",
        "       return self.cost\n",
        "my_tuna_pizza = Tuna_Pizza(\"Tuna Pizza\",\"orta\", \"ince hamur\", \"chedar peyniri ve Ton balığı\", 70)"
      ],
      "metadata": {
        "id": "rzYPuUExkFof"
      },
      "execution_count": 117,
      "outputs": []
    },
    {
      "cell_type": "code",
      "source": [
        "my_tuna_pizza.get_description()\n",
        "my_tuna_pizza.get_cost()"
      ],
      "metadata": {
        "colab": {
          "base_uri": "https://localhost:8080/"
        },
        "id": "2ZuPBKfFljR8",
        "outputId": "2f16c00d-2230-46ae-a5c3-c8719e435815"
      },
      "execution_count": 118,
      "outputs": [
        {
          "output_type": "stream",
          "name": "stdout",
          "text": [
            "Tuna Pizza 'nın boyutu orta ve ince hamur. chedar peyniri ve Ton balığı içermektedir.\n"
          ]
        },
        {
          "output_type": "execute_result",
          "data": {
            "text/plain": [
              "70"
            ]
          },
          "metadata": {},
          "execution_count": 118
        }
      ]
    },
    {
      "cell_type": "code",
      "source": [
        "class Decorator():\n",
        "  def __init__ (self, cost):\n",
        "    self.cost = cost\n",
        "\n",
        "  def get_cost (self):\n",
        "      return self.cost\n"
      ],
      "metadata": {
        "id": "tscc1ZcMlvAF"
      },
      "execution_count": 119,
      "outputs": []
    },
    {
      "cell_type": "code",
      "source": [
        "class zeytin(Decorator):\n",
        "  def __init__ (self,cost):\n",
        "    super().__init__(cost)\n",
        "\n",
        "  def get_cost (self):\n",
        "    return self.cost\n",
        "my_sos_z = zeytin(5)\n"
      ],
      "metadata": {
        "id": "AX2ctxJmo7TK"
      },
      "execution_count": 120,
      "outputs": []
    },
    {
      "cell_type": "code",
      "source": [
        "class mantar(Decorator):\n",
        "  def __init__ (self,cost):\n",
        "    super().__init__(cost)\n",
        "\n",
        "  def get_cost (self):\n",
        "    return self.cost\n",
        "my_sos_m = mantar(5)"
      ],
      "metadata": {
        "id": "_rIVtpyz4T5z"
      },
      "execution_count": 121,
      "outputs": []
    },
    {
      "cell_type": "code",
      "source": [
        "class keci_peyniri(Decorator):\n",
        "  def __init__ (self,cost):\n",
        "    super().__init__(cost)\n",
        "\n",
        "  def get_cost (self):\n",
        "    return self.cost\n",
        "my_sos_k = keci_peyniri(5)"
      ],
      "metadata": {
        "id": "K-lI1A3y4dsP"
      },
      "execution_count": 122,
      "outputs": []
    },
    {
      "cell_type": "code",
      "source": [
        "class Et(Decorator):\n",
        "  def __init__ (self,cost):\n",
        "    super().__init__(cost)\n",
        "\n",
        "  def get_cost (self):\n",
        "    return self.cost\n",
        "my_sos_e = Et(13)"
      ],
      "metadata": {
        "id": "thwMV6j44q_i"
      },
      "execution_count": 123,
      "outputs": []
    },
    {
      "cell_type": "code",
      "source": [
        "class sogan(Decorator):\n",
        "  def __init__ (self,cost):\n",
        "    super().__init__(cost)\n",
        "\n",
        "  def get_cost (self):\n",
        "    return self.cost\n",
        "my_sos_s = sogan(5)"
      ],
      "metadata": {
        "id": "Y1_oIQPv41Ic"
      },
      "execution_count": 124,
      "outputs": []
    },
    {
      "cell_type": "code",
      "source": [
        "class mısır(Decorator):\n",
        "  def __init__ (self,cost):\n",
        "    super().__init__(cost)\n",
        "\n",
        "  def get_cost (self):\n",
        "    return self.cost\n",
        "my_sos_mısır = mısır(5)"
      ],
      "metadata": {
        "id": "XeZ6AFsY48KY"
      },
      "execution_count": 125,
      "outputs": []
    },
    {
      "cell_type": "code",
      "source": [
        "Menu_Dosyasi = open(\"Menu.txt\")\n",
        "print(Menu_Dosyasi.read()) \n",
        "for i in range(2):\n",
        "  secim = int(input(\"\"))\n",
        "  if i:1 \n",
        "  secim_1 = secim\n",
        "  if i:2\n",
        "  secim_2 = secim\n",
        "  while True:\n",
        "   if (secim == 1):\n",
        "    my_klasik_pizza.get_description()\n",
        "    secim_1 =secim\n",
        "    break\n",
        "   elif (secim== 2):\n",
        "    my_turk_pizza.get_description()\n",
        "    break\n",
        "   elif (secim==3):\n",
        "    my_italian_pizza.get_description()\n",
        "    break\n",
        "   elif (secim==4):\n",
        "    my_tuna_pizza.get_description()\n",
        "    break\n",
        "   elif (secim==11):\n",
        "     secim_2 = 11\n",
        "     break\n",
        "   elif (secim==12):\n",
        "    break\n",
        "   elif (secim==13):\n",
        "    break\n",
        "   elif (secim==14):\n",
        "    break\n",
        "   elif (secim==15):\n",
        "    break\n",
        "   elif (secim==16):\n",
        "    break"
      ],
      "metadata": {
        "colab": {
          "base_uri": "https://localhost:8080/"
        },
        "id": "Lpkrq4meIy5m",
        "outputId": "ac3f1e47-10d8-4489-9dbf-97c89e32f0c7"
      },
      "execution_count": 142,
      "outputs": [
        {
          "name": "stdout",
          "output_type": "stream",
          "text": [
            "\n",
            "* Lütfen Bir Pizza Tabanı Seçiniz:\n",
            "1: Klasik Pizza\n",
            "2: TürkPizza\n",
            "3: Italian Pizza\n",
            "4: Tuna Pizza\n",
            "* ve seçeceğiniz sos:\n",
            "11: Zeytin\n",
            "12: Mantarlar\n",
            "13: Keçi Peyniri\n",
            "14: Et\n",
            "15: Soğan\n",
            "16: Mısır\n",
            "* Teşekkür ederiz! \n",
            "3\n",
            "İtalian Pizza 'nın boyutu orta ve ince hamur. sucuk, pepperoni, chedar peyniri, mısır ve zeytin, içermektedir.\n",
            "13\n"
          ]
        }
      ]
    },
    {
      "cell_type": "code",
      "source": [
        "if (secim_1 == 1):\n",
        "  my_klasik_pizza.get_cost()\n",
        "  secim_1 = my_klasik_pizza.get_cost()\n",
        "elif (secim_1 == 2):\n",
        "  secim_1 = my_turk_pizza.get_cost()\n",
        "elif (secim_1 == 3):\n",
        "  secim_1 = my_italian_pizza.get_cost()\n",
        "elif (secim_1 == 4):\n",
        "  secim_1 = my_tuna_pizza.get_cost()\n",
        "\n",
        "if (secim_2 == 11):\n",
        "  secim_2 = my_sos_z.get_cost()\n",
        "elif (secim_2 == 12):\n",
        "  secim_2 = my_sos_m.get_cost()\n",
        "elif (secim_2 == 13):\n",
        "  secim_2 =my_sos_k.get_cost()\n",
        "elif (secim_2 == 14):\n",
        "  secim_2 = my_sos_e.get_cost()\n",
        "elif (secim_2 == 15):\n",
        "  secim_2 = my_sos_s.get_cost()\n",
        "elif (secim_2 == 16):\n",
        "  secim_2 = my_sos_mısır.get_cost()\n",
        "\n",
        "total_cost = sum([secim_1 + secim_2]) # total ücret hesaplandı ve total_cost isimli değere atandı.\n",
        "print(\"Ücretiniz \",total_cost)\n",
        "print(\"ÖDEME BİLGİLERİ\")\n",
        "isim = input(\"lütfen isminizi giriniz.\")\n",
        "TC_Kimlik = int(input(\"lütfen tc kimlik no giriniz.\"))\n",
        "k_k_numarasi = int(input(\"lütfen kredi kartı numarası giriniz.\"))\n",
        "k_k_sifresi = int(input(\"lütfen kredi kartı şifrenizi giriniz.\"))"
      ],
      "metadata": {
        "id": "8uOegIOLzbNg",
        "colab": {
          "base_uri": "https://localhost:8080/"
        },
        "outputId": "22ddee4f-2a86-41ba-ffe0-6e35694a3984"
      },
      "execution_count": 143,
      "outputs": [
        {
          "name": "stdout",
          "output_type": "stream",
          "text": [
            "Ücretiniz  18\n",
            "ÖDEME BİLGİLERİ\n",
            "lütfen isminizi giriniz.Elif Beyza Kara\n",
            "lütfen tc kimlik no giriniz.149740652365\n",
            "lütfen kredi kartı numarası giriniz.24674653656323\n",
            "lütfen kredi kartı şifrenizi giriniz.6565\n"
          ]
        }
      ]
    },
    {
      "cell_type": "code",
      "source": [
        "Orders_Database = open(\"Orders_Database.csv\",\"w\")\n",
        "yazici = csv.writer(Orders_Database, delimiter = \",\")\n",
        "data = []\n",
        "data.append([isim, TC_Kimlik, k_k_numarasi, k_k_sifresi])\n",
        "yazici.writerow(data)\n",
        "Orders_Database.close()\n"
      ],
      "metadata": {
        "id": "B8j353z5iIZg"
      },
      "execution_count": 145,
      "outputs": []
    }
  ]
}